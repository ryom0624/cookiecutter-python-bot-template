{
 "cells": [
  {
   "cell_type": "code",
   "execution_count": null,
   "id": "37f2f068-77a0-4fc1-9846-743f24f9fbb9",
   "metadata": {},
   "outputs": [],
   "source": [
    "print(\"hoge\")"
   ]
  }
 ],
 "metadata": {
  "kernelspec": {
   "display_name": "Python 3 (ipykernel)",
   "language": "python",
   "name": "python3"
  },
  "language_info": {
   "codemirror_mode": {
    "name": "ipython",
    "version": 3
   },
   "file_extension": ".py",
   "mimetype": "text/x-python",
   "name": "python",
   "nbconvert_exporter": "python",
   "pygments_lexer": "ipython3",
   "version": "3.10.5"
  }
 },
 "nbformat": 4,
 "nbformat_minor": 5
}
